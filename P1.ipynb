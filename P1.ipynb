{
 "cells": [
  {
   "cell_type": "markdown",
   "metadata": {},
   "source": [
    "# Self-Driving Car Engineer Nanodegree\n",
    "\n",
    "\n",
    "## Project: **Finding Lane Lines on the Road** \n",
    "***\n",
    "In this project, you will use the tools you learned about in the lesson to identify lane lines on the road.  You can develop your pipeline on a series of individual images, and later apply the result to a video stream (really just a series of images). Check out the video clip \"raw-lines-example.mp4\" (also contained in this repository) to see what the output should look like after using the helper functions below. \n",
    "\n",
    "Once you have a result that looks roughly like \"raw-lines-example.mp4\", you'll need to get creative and try to average and/or extrapolate the line segments you've detected to map out the full extent of the lane lines.  You can see an example of the result you're going for in the video \"P1_example.mp4\".  Ultimately, you would like to draw just one line for the left side of the lane, and one for the right.\n",
    "\n",
    "In addition to implementing code, there is a brief writeup to complete. The writeup should be completed in a separate file, which can be either a markdown file or a pdf document. There is a [write up template](https://github.com/udacity/CarND-LaneLines-P1/blob/master/writeup_template.md) that can be used to guide the writing process. Completing both the code in the Ipython notebook and the writeup template will cover all of the [rubric points](https://review.udacity.com/#!/rubrics/322/view) for this project.\n",
    "\n",
    "---\n",
    "Let's have a look at our first image called 'test_images/solidWhiteRight.jpg'.  Run the 2 cells below (hit Shift-Enter or the \"play\" button above) to display the image.\n",
    "\n",
    "**Note: If, at any point, you encounter frozen display windows or other confounding issues, you can always start again with a clean slate by going to the \"Kernel\" menu above and selecting \"Restart & Clear Output\".**\n",
    "\n",
    "---"
   ]
  },
  {
   "cell_type": "markdown",
   "metadata": {},
   "source": [
    "**The tools you have are color selection, region of interest selection, grayscaling, Gaussian smoothing, Canny Edge Detection and Hough Tranform line detection.  You  are also free to explore and try other techniques that were not presented in the lesson.  Your goal is piece together a pipeline to detect the line segments in the image, then average/extrapolate them and draw them onto the image for display (as below).  Once you have a working pipeline, try it out on the video stream below.**\n",
    "\n",
    "---\n",
    "\n",
    "<figure>\n",
    " <img src=\"examples/line-segments-example.jpg\" width=\"380\" alt=\"Combined Image\" />\n",
    " <figcaption>\n",
    " <p></p> \n",
    " <p style=\"text-align: center;\"> Your output should look something like this (above) after detecting line segments using the helper functions below </p> \n",
    " </figcaption>\n",
    "</figure>\n",
    " <p></p> \n",
    "<figure>\n",
    " <img src=\"examples/laneLines_thirdPass.jpg\" width=\"380\" alt=\"Combined Image\" />\n",
    " <figcaption>\n",
    " <p></p> \n",
    " <p style=\"text-align: center;\"> Your goal is to connect/average/extrapolate line segments to get output like this</p> \n",
    " </figcaption>\n",
    "</figure>"
   ]
  },
  {
   "cell_type": "markdown",
   "metadata": {},
   "source": [
    "**Run the cell below to import some packages.  If you get an `import error` for a package you've already installed, try changing your kernel (select the Kernel menu above --> Change Kernel).  Still have problems?  Try relaunching Jupyter Notebook from the terminal prompt.  Also, see [this forum post](https://carnd-forums.udacity.com/cq/viewquestion.action?spaceKey=CAR&id=29496372&questionTitle=finding-lanes---import-cv2-fails-even-though-python-in-the-terminal-window-has-no-problem-with-import-cv2) for more troubleshooting tips.**  "
   ]
  },
  {
   "cell_type": "markdown",
   "metadata": {},
   "source": [
    "## Import Packages"
   ]
  },
  {
   "cell_type": "code",
   "execution_count": null,
   "metadata": {
    "collapsed": false
   },
   "outputs": [],
   "source": [
    "#importing some useful packages\n",
    "import matplotlib.pyplot as plt\n",
    "import matplotlib.image as mpimg\n",
    "import numpy as np\n",
    "import cv2\n",
    "%matplotlib inline\n",
    "fig_size = [14, 9]\n",
    "plt.rcParams[\"figure.figsize\"] = fig_size"
   ]
  },
  {
   "cell_type": "markdown",
   "metadata": {},
   "source": [
    "## Read in an Image"
   ]
  },
  {
   "cell_type": "code",
   "execution_count": null,
   "metadata": {
    "collapsed": false
   },
   "outputs": [],
   "source": [
    "#reading in an image\n",
    "image = mpimg.imread('test_images/solidWhiteRight.jpg')\n",
    "\n",
    "#printing out some stats and plotting\n",
    "print('This image is:', type(image), 'with dimensions:', image.shape)\n",
    "plt.rcParams[\"figure.figsize\"] = fig_size\n",
    "plt.imshow(image)  # if you wanted to show a single color channel image called 'gray', for example, call as plt.imshow(gray, cmap='gray')"
   ]
  },
  {
   "cell_type": "markdown",
   "metadata": {},
   "source": [
    "## Ideas for Lane Detection Pipeline"
   ]
  },
  {
   "cell_type": "markdown",
   "metadata": {},
   "source": [
    "**Some OpenCV functions (beyond those introduced in the lesson) that might be useful for this project are:**\n",
    "\n",
    "`cv2.inRange()` for color selection  \n",
    "`cv2.fillPoly()` for regions selection  \n",
    "`cv2.line()` to draw lines on an image given endpoints  \n",
    "`cv2.addWeighted()` to coadd / overlay two images\n",
    "`cv2.cvtColor()` to grayscale or change color\n",
    "`cv2.imwrite()` to output images to file  \n",
    "`cv2.bitwise_and()` to apply a mask to an image\n",
    "\n",
    "**Check out the OpenCV documentation to learn about these and discover even more awesome functionality!**"
   ]
  },
  {
   "cell_type": "markdown",
   "metadata": {},
   "source": [
    "## Helper Functions"
   ]
  },
  {
   "cell_type": "markdown",
   "metadata": {},
   "source": [
    "Below are some helper functions to help get you started. They should look familiar from the lesson!"
   ]
  },
  {
   "cell_type": "code",
   "execution_count": null,
   "metadata": {
    "collapsed": false
   },
   "outputs": [],
   "source": [
    "import math\n",
    "\n",
    "def to_hsv(img):\n",
    "    return cv2.cvtColor(img, cv2.COLOR_RGB2HSV)\n",
    "\n",
    "def grayscale(img):\n",
    "    \"\"\"Applies the Grayscale transform\n",
    "    This will return an image with only one color channel\n",
    "    but NOTE: to see the returned image as grayscale\n",
    "    (assuming your grayscaled image is called 'gray')\n",
    "    you should call plt.imshow(gray, cmap='gray')\"\"\"\n",
    "    return cv2.cvtColor(img, cv2.COLOR_RGB2GRAY)\n",
    "    # Or use BGR2GRAY if you read an image with cv2.imread()\n",
    "    # return cv2.cvtColor(img, cv2.COLOR_BGR2GRAY)\n",
    "    \n",
    "def canny(img, low_threshold, high_threshold):\n",
    "    \"\"\"Applies the Canny transform\"\"\"\n",
    "    return cv2.Canny(img, low_threshold, high_threshold)\n",
    "\n",
    "def gaussian_blur(img, kernel_size):\n",
    "    \"\"\"Applies a Gaussian Noise kernel\"\"\"\n",
    "    return cv2.GaussianBlur(img, (kernel_size, kernel_size), 0)\n",
    "\n",
    "def region_of_interest(img, vertices):\n",
    "    \"\"\"\n",
    "    Applies an image mask.\n",
    "    \n",
    "    Only keeps the region of the image defined by the polygon\n",
    "    formed from `vertices`. The rest of the image is set to black.\n",
    "    \"\"\"\n",
    "    #defining a blank mask to start with\n",
    "    mask = np.zeros_like(img)   \n",
    "    \n",
    "    #defining a 3 channel or 1 channel color to fill the mask with depending on the input image\n",
    "    if len(img.shape) > 2:\n",
    "        channel_count = img.shape[2]  # i.e. 3 or 4 depending on your image\n",
    "        ignore_mask_color = (255,) * channel_count\n",
    "    else:\n",
    "        ignore_mask_color = 255\n",
    "        \n",
    "    #filling pixels inside the polygon defined by \"vertices\" with the fill color    \n",
    "    cv2.fillPoly(mask, vertices, ignore_mask_color)\n",
    "    \n",
    "    #returning the image only where mask pixels are nonzero\n",
    "    masked_image = cv2.bitwise_and(img, mask)\n",
    "    return masked_image\n",
    "\n",
    "\n",
    "def draw_lines(img, lines, color=[255, 0, 0], thickness=2, min_x=0, max_x=960, min_y=330, max_y=540):\n",
    "    \"\"\"\n",
    "    NOTE: this is the function you might want to use as a starting point once you want to \n",
    "    average/extrapolate the line segments you detect to map out the full\n",
    "    extent of the lane (going from the result shown in raw-lines-example.mp4\n",
    "    to that shown in P1_example.mp4).  \n",
    "    \n",
    "    Think about things like separating line segments by their \n",
    "    slope ((y2-y1)/(x2-x1)) to decide which segments are part of the left\n",
    "    line vs. the right line.  Then, you can average the position of each of\n",
    "    the lines and extrapolate to the top and bottom of the lane.\n",
    "    \n",
    "    This function draws `lines` with `color` and `thickness`.    \n",
    "    Lines are drawn on the image inplace (mutates the image).\n",
    "    If you want to make the lines semi-transparent, think about combining\n",
    "    this function with the weighted_img() function below\n",
    "    \"\"\"\n",
    "#     print(lines)\n",
    "#     for line in lines:\n",
    "#         for x1,y1,x2,y2 in line:\n",
    "#             cv2.line(img, (x1, y1), (x2, y2), color, thickness)\n",
    "#     lane_lines = compute_lane(lines, 0, img.shape[1], 330, img.shape[0])\n",
    "    lane_lines = compute_lane(lines, min_x, max_x, min_y, max_y)\n",
    "#     lane_lines = lines_process(lines, 0, img.shape[1], 330, img.shape[0])\n",
    "#     ave_lines = lines\n",
    "    for line in lane_lines:\n",
    "        for x1,y1,x2,y2 in line:\n",
    "            cv2.line(img, (x1, y1), (x2, y2), color, thickness)\n",
    "\n",
    "def hough_lines(img, rho, theta, threshold, min_line_len, max_line_gap, min_x=0, max_x=960, min_y=330, max_y=540):\n",
    "    \"\"\"\n",
    "    `img` should be the output of a Canny transform.\n",
    "        \n",
    "    Returns an image with hough lines drawn.\n",
    "    \"\"\"\n",
    "    lines = cv2.HoughLinesP(img, rho, theta, threshold, np.array([]), minLineLength=min_line_len, maxLineGap=max_line_gap)\n",
    "    # print(lines)\n",
    "    line_img = np.zeros((img.shape[0], img.shape[1], 3), dtype=np.uint8)\n",
    "    draw_lines(line_img, lines, thickness=10, min_x=min_x, max_x=max_x, min_y=min_y, max_y=max_y)\n",
    "    return line_img\n",
    "\n",
    "# Python 3 has support for cool math symbols.\n",
    "\n",
    "def weighted_img(img, initial_img, α=0.8, β=1., λ=0.):\n",
    "    \"\"\"\n",
    "    `img` is the output of the hough_lines(), An image with lines drawn on it.\n",
    "    Should be a blank image (all black) with lines drawn on it.\n",
    "    \n",
    "    `initial_img` should be the image before any processing.\n",
    "    \n",
    "    The result image is computed as follows:\n",
    "    \n",
    "    initial_img * α + img * β + λ\n",
    "    NOTE: initial_img and img must be the same shape!\n",
    "    \"\"\"\n",
    "    return cv2.addWeighted(initial_img, α, img, β, λ)\n",
    "\n"
   ]
  },
  {
   "cell_type": "code",
   "execution_count": null,
   "metadata": {
    "collapsed": true
   },
   "outputs": [],
   "source": [
    "# idea: weighted average of the slope and intercept\n",
    "# not effective because we are dealing with the lines output from hough lines method.\n",
    "# idea: choose the best segment and extrapolate?\n",
    "\n",
    "def lines_process(lines, min_x, max_x, min_y, max_y):\n",
    "    \"\"\"\n",
    "    Docstring\n",
    "    \"\"\"\n",
    "    new_lines = []\n",
    "    # find average slope and intercept\n",
    "    # m is slope, b is intercept\n",
    "    left_m = 0\n",
    "    left_b = 0\n",
    "    right_m = 0\n",
    "    right_b = 0\n",
    "    num_left = 0\n",
    "    num_right = 0\n",
    "    len_left = 0\n",
    "    len_right = 0\n",
    "    for line in lines:\n",
    "        for x1,y1,x2,y2 in line:\n",
    "            m = (y2 - y1) / (x2 - x1)\n",
    "            b = (y2 - y1 * (x2 / x1)) / (1 - (x2 / x1))\n",
    "            line_len = np.sqrt((y2 - y1)**2 + (x2 - x1)**2)\n",
    "            # print(m, b)\n",
    "            if 0.5 < abs(m) < 0.8:\n",
    "                if m < 0:\n",
    "                    num_left += 1\n",
    "                    len_left += line_len\n",
    "                    left_m += line_len * m\n",
    "                    left_b += line_len * b\n",
    "                else:\n",
    "                    num_right += 1\n",
    "                    len_right += line_len\n",
    "                    right_m += line_len * m\n",
    "                    right_b += line_len * b\n",
    "    # print(num_left, num_right)\n",
    "    # compute average        \n",
    "    ave_left_m = left_m / len_left\n",
    "    ave_left_b = left_b / len_left\n",
    "    ave_right_m = right_m / len_right\n",
    "    ave_right_b = right_b / len_right\n",
    "    # print(\"Average:\", ave_left_m, ave_left_b, ave_right_m, ave_right_b)\n",
    "    # compute two lane lines\n",
    "    # left_lane = [(max_y - left_b) / left_m, max_y, (min_y - left_b) / left_m, min_y]\n",
    "    left_lane = [(max_y - ave_left_b) / ave_left_m, max_y, (min_y - ave_left_b) / ave_left_m, min_y]\n",
    "    left_lane = [int(i) for i in left_lane]\n",
    "    right_lane = [(max_y - ave_right_b) / ave_right_m, max_y, (min_y - ave_right_b) / ave_right_m, min_y]\n",
    "    right_lane = [int(i) for i in right_lane]\n",
    "    return np.array([[left_lane, right_lane]])\n",
    "            \n",
    "            "
   ]
  },
  {
   "cell_type": "code",
   "execution_count": null,
   "metadata": {
    "collapsed": true
   },
   "outputs": [],
   "source": [
    "# use numpy.polyfit to compute the line that best fits the Hough lines\n",
    "# remember to filter the too horizontal and vertical lines\n",
    "def fitline(lines):\n",
    "    \"\"\"\n",
    "    Input: Hough lines\n",
    "    \"\"\"\n",
    "    x_left = []\n",
    "    y_left = []\n",
    "    x_right = []\n",
    "    y_right = []\n",
    "    for line in lines:\n",
    "        for x1,y1,x2,y2 in line:\n",
    "            m = (y2 - y1) / (x2 - x1)\n",
    "            if 0.5 < abs(m) < 0.8:\n",
    "                if m < 0: # left lane\n",
    "                    x_left += [x1, x2]\n",
    "                    y_left += [y1, y2]\n",
    "                    # print(m)\n",
    "                elif m > 0:\n",
    "                    x_right += [x1, x2]\n",
    "                    y_right += [y1, y2]\n",
    "                    # print(m)\n",
    "    # compute the line\n",
    "    z_left = np.polyfit(x_left, y_left, 1)\n",
    "    z_right = np.polyfit(x_right, y_right, 1)\n",
    "    return z_left, z_right"
   ]
  },
  {
   "cell_type": "code",
   "execution_count": null,
   "metadata": {
    "collapsed": true
   },
   "outputs": [],
   "source": [
    "# compute the lane lines\n",
    "def compute_lane(lines, min_x, max_x, min_y, max_y):\n",
    "    z_left, z_right = fitline(lines)\n",
    "    # print(\"Left lane:\", z_left)\n",
    "    # print(\"Right lane:\", z_right)\n",
    "    left_lane = [(max_y - z_left[1]) / z_left[0], max_y, (min_y - z_left[1]) / z_left[0], min_y]\n",
    "    left_lane = [int(i) for i in left_lane]\n",
    "    right_lane = [(max_y - z_right[1]) / z_right[0], max_y, (min_y - z_right[1]) / z_right[0], min_y]\n",
    "    right_lane = [int(i) for i in right_lane]\n",
    "    return np.array([[left_lane, right_lane]])\n",
    "    "
   ]
  },
  {
   "cell_type": "markdown",
   "metadata": {},
   "source": [
    "## Test Images\n",
    "\n",
    "Build your pipeline to work on the images in the directory \"test_images\"  \n",
    "**You should make sure your pipeline works well on these images before you try the videos.**"
   ]
  },
  {
   "cell_type": "code",
   "execution_count": null,
   "metadata": {
    "collapsed": false
   },
   "outputs": [],
   "source": [
    "import os\n",
    "os.listdir(\"test_images/\")"
   ]
  },
  {
   "cell_type": "markdown",
   "metadata": {},
   "source": [
    "## Build a Lane Finding Pipeline\n",
    "\n"
   ]
  },
  {
   "cell_type": "markdown",
   "metadata": {},
   "source": [
    "Build the pipeline and run your solution on all test_images. Make copies into the `test_images_output` directory, and you can use the images in your writeup report.\n",
    "\n",
    "Try tuning the various parameters, especially the low and high Canny thresholds as well as the Hough lines parameters."
   ]
  },
  {
   "cell_type": "code",
   "execution_count": null,
   "metadata": {
    "collapsed": false
   },
   "outputs": [],
   "source": [
    "# TODO: Build your pipeline that will draw lane lines on the test_images\n",
    "# then save them to the test_images directory.\n",
    "\n",
    "# load one image\n",
    "# image = mpimg.imread('./test_images/solidWhiteRight.jpg')\n",
    "# image = mpimg.imread('./test_images/solidYellowLeft.jpg')\n",
    "# image = mpimg.imread('./test_images/solidWhiteCurve.jpg')\n",
    "# image = mpimg.imread('./test_images/solidYellowCurve.jpg')\n",
    "# image = mpimg.imread('./test_images/solidYellowCurve2.jpg')\n",
    "# image = mpimg.imread('./test_images/whiteCarLaneSwitch.jpg')\n",
    "image = mpimg.imread('./challenge/challenge5.jpg')\n",
    "print(image.shape)\n",
    "# plt.imshow(image)\n",
    "\n",
    "# convert the color into grayscale\n",
    "gray = grayscale(image)\n",
    "# plt.imshow(gray, cmap='gray')\n",
    "\n",
    "# blur the image (why we do this?)\n",
    "kernel_size = 5\n",
    "blur_gray = gaussian_blur(gray, kernel_size)\n",
    "# plt.imshow(blur_gray, cmap='gray')\n",
    "\n",
    "# find the Canny edges\n",
    "low_threshold = 100\n",
    "high_threshold = 200\n",
    "edges = canny(blur_gray, low_threshold, high_threshold)\n",
    "# plt.imshow(edges)\n",
    "\n",
    "# select a region to mask\n",
    "# the vertices might be different from one picture to another\n",
    "# (unless the camera is kind of fixed)\n",
    "imshape = image.shape\n",
    "bottom_left = (120, imshape[0])\n",
    "upper_left = (440, 330)\n",
    "upper_right = (540, 330)\n",
    "bottom_right = (imshape[1]-20, imshape[0])\n",
    "vertices = np.array([[bottom_left, upper_left, upper_right, bottom_right]], dtype=np.int32)\n",
    "# why need two [ in the input parameter of np.array?\n",
    "masked_edges = region_of_interest(edges, vertices)\n",
    "plt.imshow(masked_edges)\n",
    "\n",
    "x = [bottom_left[0], upper_left[0], upper_right[0], bottom_right[0], bottom_left[0]]\n",
    "y = [bottom_left[1], upper_left[1], upper_right[1], bottom_right[1], bottom_left[1]]\n",
    "# plt.plot(x, y, 'b--', lw=4)\n",
    "\n",
    "# Draw Hough lines\n",
    "rho = 2 # distance resolution in pixels of the Hough grid\n",
    "theta = np.pi/180 # angular resolution in radians of the Hough grid\n",
    "threshold = 20  # minimum number of votes (intersections in Hough grid cell)\n",
    "min_line_length = 10 # minimum number of pixels making up a line\n",
    "max_line_gap = 10  # maximum gap in pixels between connectable line segments\n",
    "line_img = hough_lines(masked_edges, rho, theta, threshold, min_line_length, max_line_gap)\n",
    "# plt.imshow(line_img)\n",
    "\n",
    "# Resulting image\n",
    "result = weighted_img(line_img, image, α=0.9, β=0.5)\n",
    "plt.imshow(result)"
   ]
  },
  {
   "cell_type": "markdown",
   "metadata": {},
   "source": [
    "## Test on Videos\n",
    "\n",
    "You know what's cooler than drawing lanes over images? Drawing lanes over video!\n",
    "\n",
    "We can test our solution on two provided videos:\n",
    "\n",
    "`solidWhiteRight.mp4`\n",
    "\n",
    "`solidYellowLeft.mp4`\n",
    "\n",
    "**Note: if you get an `import error` when you run the next cell, try changing your kernel (select the Kernel menu above --> Change Kernel).  Still have problems?  Try relaunching Jupyter Notebook from the terminal prompt. Also, check out [this forum post](https://carnd-forums.udacity.com/questions/22677062/answers/22677109) for more troubleshooting tips.**\n",
    "\n",
    "**If you get an error that looks like this:**\n",
    "```\n",
    "NeedDownloadError: Need ffmpeg exe. \n",
    "You can download it by calling: \n",
    "imageio.plugins.ffmpeg.download()\n",
    "```\n",
    "**Follow the instructions in the error message and check out [this forum post](https://carnd-forums.udacity.com/display/CAR/questions/26218840/import-videofileclip-error) for more troubleshooting tips across operating systems.**"
   ]
  },
  {
   "cell_type": "code",
   "execution_count": null,
   "metadata": {
    "collapsed": true
   },
   "outputs": [],
   "source": [
    "# Import everything needed to edit/save/watch video clips\n",
    "from moviepy.editor import VideoFileClip\n",
    "from IPython.display import HTML"
   ]
  },
  {
   "cell_type": "code",
   "execution_count": null,
   "metadata": {
    "collapsed": true
   },
   "outputs": [],
   "source": [
    "def process_image(image):\n",
    "    # NOTE: The output you return should be a color image (3 channel) for processing video below\n",
    "    # TODO: put your pipeline here,\n",
    "    # you should return the final output (image where lines are drawn on lanes)\n",
    "    # convert the color into grayscale\n",
    "    gray = grayscale(image)\n",
    "    # plt.imshow(gray, cmap='gray')\n",
    "\n",
    "    # blur the image (why we do this?)\n",
    "    kernel_size = 5\n",
    "    blur_gray = gaussian_blur(gray, kernel_size)\n",
    "    # plt.imshow(blur_gray, cmap='gray')\n",
    "\n",
    "    # find the Canny edges\n",
    "    low_threshold = 100\n",
    "    high_threshold = 200\n",
    "    edges = canny(blur_gray, low_threshold, high_threshold)\n",
    "    # plt.imshow(edges)\n",
    "\n",
    "    # select a region to mask\n",
    "    # the vertices might be different from one picture to another\n",
    "    # (unless the camera is kind of fixed)\n",
    "    imshape = image.shape\n",
    "    bottom_left = (120, imshape[0])\n",
    "    upper_left = (440, 330)\n",
    "    upper_right = (540, 330)\n",
    "    bottom_right = (imshape[1]-20, imshape[0])\n",
    "    vertices = np.array([[bottom_left, upper_left, upper_right, bottom_right]], dtype=np.int32)\n",
    "    # why need two [ in the input parameter of np.array?\n",
    "    masked_edges = region_of_interest(edges, vertices)\n",
    "    # plt.imshow(masked_edges)\n",
    "\n",
    "    x = [bottom_left[0], upper_left[0], upper_right[0], bottom_right[0], bottom_left[0]]\n",
    "    y = [bottom_left[1], upper_left[1], upper_right[1], bottom_right[1], bottom_left[1]]\n",
    "    # plt.plot(x, y, 'b--', lw=4)\n",
    "\n",
    "    # Draw Hough lines\n",
    "    rho = 2 # distance resolution in pixels of the Hough grid\n",
    "    theta = np.pi/180 # angular resolution in radians of the Hough grid\n",
    "    threshold = 15  # minimum number of votes (intersections in Hough grid cell)\n",
    "    min_line_length = 5 # minimum number of pixels making up a line\n",
    "    max_line_gap = 10  # maximum gap in pixels between connectable line segments\n",
    "    line_img = hough_lines(masked_edges, rho, theta, threshold, min_line_length, max_line_gap)\n",
    "    # plt.imshow(line_img)\n",
    "\n",
    "    # Resulting image\n",
    "    result = weighted_img(line_img, image, α=0.8, β=0.5)\n",
    "    return result"
   ]
  },
  {
   "cell_type": "code",
   "execution_count": null,
   "metadata": {
    "collapsed": true
   },
   "outputs": [],
   "source": [
    "def process_image(image, low_threshold=100, high_threshold=200, bottom_left=(120,540), upper_left=(440,330),\n",
    "                  upper_right=(540,330), bottom_right=(960, 540), rho=2, theta=np.pi/180, threshold=15,\n",
    "                  min_line_length=5, max_line_gap=10, min_x=0, max_x=960, min_y=330, max_y=540):\n",
    "    # NOTE: The output you return should be a color image (3 channel) for processing video below\n",
    "    # TODO: put your pipeline here,\n",
    "    # you should return the final output (image where lines are drawn on lanes)\n",
    "    # convert the color into grayscale\n",
    "#     gray = grayscale(image)\n",
    "#     gray = to_hsv(image)\n",
    "#     plt.imshow(gray, cmap='gray')\n",
    "\n",
    "    # blur the image (why we do this?)\n",
    "    kernel_size = 5\n",
    "#     blur_gray = gaussian_blur(gray, kernel_size)\n",
    "#     plt.imshow(blur_gray, cmap='gray')\n",
    "    blur = gaussian_blur(image, kernel_size)\n",
    "\n",
    "    # find the Canny edges\n",
    "    edges = canny(blur, low_threshold, high_threshold)\n",
    "#     edges = canny(gray, low_threshold, high_threshold)\n",
    "#     edges = canny(blur_gray, low_threshold, high_threshold)\n",
    "#     plt.imshow(edges)\n",
    "\n",
    "    # select a region to mask\n",
    "    # the vertices might be different from one picture to another\n",
    "    # (unless the camera is kind of fixed)\n",
    "    vertices = np.array([[bottom_left, upper_left, upper_right, bottom_right]], dtype=np.int32)\n",
    "    # why need two [ in the input parameter of np.array?\n",
    "    masked_edges = region_of_interest(edges, vertices)\n",
    "#     plt.imshow(masked_edges)\n",
    "\n",
    "    x = [bottom_left[0], upper_left[0], upper_right[0], bottom_right[0], bottom_left[0]]\n",
    "    y = [bottom_left[1], upper_left[1], upper_right[1], bottom_right[1], bottom_left[1]]\n",
    "#     plt.plot(x, y, 'b--', lw=4)\n",
    "\n",
    "    # Draw Hough lines\n",
    "    line_img = hough_lines(masked_edges, rho, theta, threshold, min_line_length, max_line_gap, min_x,\n",
    "                           max_x, min_y, max_y)\n",
    "#     plt.imshow(line_img)\n",
    "\n",
    "    # Resulting image\n",
    "    result = weighted_img(line_img, image, α=0.8, β=0.5)\n",
    "    return result"
   ]
  },
  {
   "cell_type": "code",
   "execution_count": null,
   "metadata": {
    "collapsed": false
   },
   "outputs": [],
   "source": [
    "# test using the function\n",
    "# image = mpimg.imread('./challenge/challenge1.jpg')\n",
    "# image = mpimg.imread('./challenge/challenge2.jpg')\n",
    "# image = mpimg.imread('./challenge/challenge3.jpg')\n",
    "# image = mpimg.imread('./challenge/challenge4.jpg')\n",
    "# image = mpimg.imread('./challenge/challenge5.jpg')\n",
    "image = mpimg.imread('./challenge/challenge6.jpg')\n",
    "# image = mpimg.imread('./challenge/challenge7.jpg')\n",
    "# image = mpimg.imread('./challenge/challenge8.jpg')\n",
    "# image = mpimg.imread('./challenge/challenge9.jpg')\n",
    "# plt.imshow(image)\n",
    "result = process_image(image, bottom_left=(280, 650), upper_left=(580, 440), upper_right=(740, 440),\n",
    "                       bottom_right=(1130, 650), threshold=15, max_line_gap=10, min_line_length=5,\n",
    "                       min_y=450, max_y=650)\n",
    "plt.imshow(result)"
   ]
  },
  {
   "cell_type": "code",
   "execution_count": null,
   "metadata": {
    "collapsed": true
   },
   "outputs": [],
   "source": [
    "\n",
    "# Current working variables\n",
    "#     low_threshold = 100\n",
    "#     high_threshold = 200\n",
    "#     vertices = np.array([[(100, imshape[0]), (450, 325), (500, 325), (imshape[1], imshape[0])]], dtype=np.int32)\n",
    "# rho = 2 # distance resolution in pixels of the Hough grid\n",
    "# theta = np.pi/180 # angular resolution in radians of the Hough grid\n",
    "# threshold = 20  # minimum number of votes (intersections in Hough grid cell)\n",
    "# min_line_length = 10 # minimum number of pixels making up a line\n",
    "# max_line_gap = 10  # maximum gap in pixels between connectable line segments"
   ]
  },
  {
   "cell_type": "markdown",
   "metadata": {},
   "source": [
    "Let's try the one with the solid white lane on the right first ..."
   ]
  },
  {
   "cell_type": "code",
   "execution_count": null,
   "metadata": {
    "collapsed": false
   },
   "outputs": [],
   "source": [
    "white_output = 'test_videos_output/solidWhiteRight.mp4'\n",
    "# white_output = 'test_videos_output/solidWhiteRight_hough.mp4'\n",
    "## To speed up the testing process you may want to try your pipeline on a shorter subclip of the video\n",
    "## To do so add .subclip(start_second,end_second) to the end of the line below\n",
    "## Where start_second and end_second are integer values representing the start and end of the subclip\n",
    "## You may also uncomment the following line for a subclip of the first 5 seconds\n",
    "##clip1 = VideoFileClip(\"test_videos/solidWhiteRight.mp4\").subclip(0,5)\n",
    "clip1 = VideoFileClip(\"test_videos/solidWhiteRight.mp4\")\n",
    "white_clip = clip1.fl_image(process_image) #NOTE: this function expects color images!!\n",
    "%time white_clip.write_videofile(white_output, audio=False)"
   ]
  },
  {
   "cell_type": "markdown",
   "metadata": {},
   "source": [
    "Play the video inline, or if you prefer find the video in your filesystem (should be in the same directory) and play it in your video player of choice."
   ]
  },
  {
   "cell_type": "code",
   "execution_count": null,
   "metadata": {
    "collapsed": false
   },
   "outputs": [],
   "source": [
    "HTML(\"\"\"\n",
    "<video width=\"960\" height=\"540\" controls>\n",
    "  <source src=\"{0}\">\n",
    "</video>\n",
    "\"\"\".format(white_output))"
   ]
  },
  {
   "cell_type": "markdown",
   "metadata": {},
   "source": [
    "## Improve the draw_lines() function\n",
    "\n",
    "**At this point, if you were successful with making the pipeline and tuning parameters, you probably have the Hough line segments drawn onto the road, but what about identifying the full extent of the lane and marking it clearly as in the example video (P1_example.mp4)?  Think about defining a line to run the full length of the visible lane based on the line segments you identified with the Hough Transform. As mentioned previously, try to average and/or extrapolate the line segments you've detected to map out the full extent of the lane lines. You can see an example of the result you're going for in the video \"P1_example.mp4\".**\n",
    "\n",
    "**Go back and modify your draw_lines function accordingly and try re-running your pipeline. The new output should draw a single, solid line over the left lane line and a single, solid line over the right lane line. The lines should start from the bottom of the image and extend out to the top of the region of interest.**"
   ]
  },
  {
   "cell_type": "markdown",
   "metadata": {},
   "source": [
    "Now for the one with the solid yellow lane on the left. This one's more tricky!"
   ]
  },
  {
   "cell_type": "code",
   "execution_count": null,
   "metadata": {
    "collapsed": false
   },
   "outputs": [],
   "source": [
    "yellow_output = 'test_videos_output/solidYellowLeft.mp4'\n",
    "# yellow_output = 'test_videos_output/solidYellowLeft_hough.mp4'\n",
    "## To speed up the testing process you may want to try your pipeline on a shorter subclip of the video\n",
    "## To do so add .subclip(start_second,end_second) to the end of the line below\n",
    "## Where start_second and end_second are integer values representing the start and end of the subclip\n",
    "## You may also uncomment the following line for a subclip of the first 5 seconds\n",
    "# clip2 = VideoFileClip('test_videos/solidYellowLeft.mp4').subclip(23,28)\n",
    "clip2 = VideoFileClip('test_videos/solidYellowLeft.mp4')\n",
    "yellow_clip = clip2.fl_image(process_image)\n",
    "%time yellow_clip.write_videofile(yellow_output, audio=False)"
   ]
  },
  {
   "cell_type": "code",
   "execution_count": null,
   "metadata": {
    "collapsed": false
   },
   "outputs": [],
   "source": [
    "HTML(\"\"\"\n",
    "<video width=\"960\" height=\"540\" controls>\n",
    "  <source src=\"{0}\">\n",
    "</video>\n",
    "\"\"\".format(yellow_output))"
   ]
  },
  {
   "cell_type": "markdown",
   "metadata": {},
   "source": [
    "## Writeup and Submission\n",
    "\n",
    "If you're satisfied with your video outputs, it's time to make the report writeup in a pdf or markdown file. Once you have this Ipython notebook ready along with the writeup, it's time to submit for review! Here is a [link](https://github.com/udacity/CarND-LaneLines-P1/blob/master/writeup_template.md) to the writeup template file.\n"
   ]
  },
  {
   "cell_type": "markdown",
   "metadata": {
    "collapsed": true
   },
   "source": [
    "## Optional Challenge\n",
    "\n",
    "Try your lane finding pipeline on the video below.  Does it still work?  Can you figure out a way to make it more robust?  If you're up for the challenge, modify your pipeline so it works with this video and submit it along with the rest of your project!"
   ]
  },
  {
   "cell_type": "code",
   "execution_count": null,
   "metadata": {
    "collapsed": true
   },
   "outputs": [],
   "source": [
    "challenge_output = 'test_videos_output/challenge.mp4'\n",
    "clip3 = VideoFileClip('test_videos/challenge.mp4')\n",
    "clip3.save_frame(\"challenge/challenge1.jpg\", t=0)\n",
    "clip3.save_frame(\"challenge/challenge2.jpg\", t=1)\n",
    "clip3.save_frame(\"challenge/challenge3.jpg\", t=2)\n",
    "clip3.save_frame(\"challenge/challenge4.jpg\", t=3)\n",
    "clip3.save_frame(\"challenge/challenge5.jpg\", t=4)\n",
    "clip3.save_frame(\"challenge/challenge6.jpg\", t=5)\n",
    "clip3.save_frame(\"challenge/challenge7.jpg\", t=6)\n",
    "clip3.save_frame(\"challenge/challenge8.jpg\", t=7)\n",
    "clip3.save_frame(\"challenge/challenge9.jpg\", t=8)"
   ]
  },
  {
   "cell_type": "code",
   "execution_count": null,
   "metadata": {
    "collapsed": true
   },
   "outputs": [],
   "source": [
    "def process_challenge(image, low_threshold=100, high_threshold=200, bottom_left=(280,650), upper_left=(580,440),\n",
    "                  upper_right=(740,440), bottom_right=(1130, 650), rho=2, theta=np.pi/180, threshold=15,\n",
    "                  min_line_length=5, max_line_gap=10, min_x=0, max_x=960, min_y=450, max_y=650):\n",
    " \n",
    "    # blur the image (why we do this?)\n",
    "    kernel_size = 5\n",
    "#     blur_gray = gaussian_blur(gray, kernel_size)\n",
    "#     plt.imshow(blur_gray, cmap='gray')\n",
    "    blur = gaussian_blur(image, kernel_size)\n",
    "\n",
    "    # find the Canny edges\n",
    "    edges = canny(blur, low_threshold, high_threshold)\n",
    "#     edges = canny(gray, low_threshold, high_threshold)\n",
    "#     edges = canny(blur_gray, low_threshold, high_threshold)\n",
    "#     plt.imshow(edges)\n",
    "\n",
    "    # select a region to mask\n",
    "    # the vertices might be different from one picture to another\n",
    "    # (unless the camera is kind of fixed)\n",
    "    vertices = np.array([[bottom_left, upper_left, upper_right, bottom_right]], dtype=np.int32)\n",
    "    # why need two [ in the input parameter of np.array?\n",
    "    masked_edges = region_of_interest(edges, vertices)\n",
    "#     plt.imshow(masked_edges)\n",
    "\n",
    "    x = [bottom_left[0], upper_left[0], upper_right[0], bottom_right[0], bottom_left[0]]\n",
    "    y = [bottom_left[1], upper_left[1], upper_right[1], bottom_right[1], bottom_left[1]]\n",
    "#     plt.plot(x, y, 'b--', lw=4)\n",
    "\n",
    "    # Draw Hough lines\n",
    "    line_img = hough_lines(masked_edges, rho, theta, threshold, min_line_length, max_line_gap, min_x,\n",
    "                           max_x, min_y, max_y)\n",
    "#     plt.imshow(line_img)\n",
    "\n",
    "    # Resulting image\n",
    "    result = weighted_img(line_img, image, α=0.8, β=0.5)\n",
    "    return result"
   ]
  },
  {
   "cell_type": "code",
   "execution_count": null,
   "metadata": {
    "collapsed": false
   },
   "outputs": [],
   "source": [
    "challenge_output = 'test_videos_output/challenge.mp4'\n",
    "## To speed up the testing process you may want to try your pipeline on a shorter subclip of the video\n",
    "## To do so add .subclip(start_second,end_second) to the end of the line below\n",
    "## Where start_second and end_second are integer values representing the start and end of the subclip\n",
    "## You may also uncomment the following line for a subclip of the first 5 seconds\n",
    "# clip3 = VideoFileClip('test_videos/challenge.mp4').subclip(0,6)\n",
    "clip3 = VideoFileClip('test_videos/challenge.mp4')\n",
    "challenge_clip = clip3.fl_image(process_challenge)\n",
    "%time challenge_clip.write_videofile(challenge_output, audio=False)"
   ]
  },
  {
   "cell_type": "code",
   "execution_count": null,
   "metadata": {
    "collapsed": true
   },
   "outputs": [],
   "source": [
    "HTML(\"\"\"\n",
    "<video width=\"960\" height=\"540\" controls>\n",
    "  <source src=\"{0}\">\n",
    "</video>\n",
    "\"\"\".format(challenge_output))"
   ]
  }
 ],
 "metadata": {
  "anaconda-cloud": {},
  "kernelspec": {
   "display_name": "Python 3",
   "language": "python",
   "name": "python3"
  },
  "language_info": {
   "codemirror_mode": {
    "name": "ipython",
    "version": 3
   },
   "file_extension": ".py",
   "mimetype": "text/x-python",
   "name": "python",
   "nbconvert_exporter": "python",
   "pygments_lexer": "ipython3",
   "version": "3.5.2"
  }
 },
 "nbformat": 4,
 "nbformat_minor": 0
}
